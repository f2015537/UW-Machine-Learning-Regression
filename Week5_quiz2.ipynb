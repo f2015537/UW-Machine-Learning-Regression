{
 "cells": [
  {
   "cell_type": "code",
   "execution_count": 1,
   "metadata": {},
   "outputs": [],
   "source": [
    "import numpy as np\n",
    "import pandas as pd\n",
    "import matplotlib.pyplot as plt\n",
    "%matplotlib inline"
   ]
  },
  {
   "cell_type": "code",
   "execution_count": 9,
   "metadata": {},
   "outputs": [],
   "source": [
    "PATH = 'data/'"
   ]
  },
  {
   "cell_type": "code",
   "execution_count": 89,
   "metadata": {},
   "outputs": [],
   "source": [
    "dtype_dict = {'bathrooms':float, 'waterfront':int, 'sqft_above':int, 'sqft_living15':float, 'grade':int, 'yr_renovated':int, 'price':float, 'bedrooms':float, 'zipcode':str, 'long':float, 'sqft_lot15':float, 'sqft_living':float, 'floors':float, 'condition':int, 'lat':float, 'date':str, 'sqft_basement':int, 'yr_built':int, 'id':str, 'sqft_lot':int, 'view':int}"
   ]
  },
  {
   "cell_type": "code",
   "execution_count": 3,
   "metadata": {},
   "outputs": [],
   "source": [
    "def get_numpy_data(df,features,output):\n",
    "    df['constant'] = 1\n",
    "    features = ['constant'] + features\n",
    "    features_frame = df[features]\n",
    "    features_matrix = features_frame.to_numpy()\n",
    "    output_series = df[output]\n",
    "    output_array = output_series.to_numpy()\n",
    "    return features_matrix,output_array"
   ]
  },
  {
   "cell_type": "code",
   "execution_count": 4,
   "metadata": {},
   "outputs": [],
   "source": [
    "def predict_output(features_matrix,weights):\n",
    "    predictions = np.dot(features_matrix,weights)\n",
    "    return predictions"
   ]
  },
  {
   "cell_type": "code",
   "execution_count": 6,
   "metadata": {},
   "outputs": [],
   "source": [
    "def normalize_features(features_matrix):\n",
    "    norms = np.linalg.norm(features_matrix,axis=0)\n",
    "    normalized_features = features_matrix / norms\n",
    "    return normalized_features,norms"
   ]
  },
  {
   "cell_type": "code",
   "execution_count": 10,
   "metadata": {},
   "outputs": [],
   "source": [
    "sales = pd.read_csv(f'{PATH}kc_house_data.csv',dtype=dtype_dict)"
   ]
  },
  {
   "cell_type": "code",
   "execution_count": 12,
   "metadata": {},
   "outputs": [],
   "source": [
    "features_matrix,output_array = get_numpy_data(sales, ['sqft_living','bedrooms'],'price')"
   ]
  },
  {
   "cell_type": "code",
   "execution_count": 15,
   "metadata": {},
   "outputs": [],
   "source": [
    "normalized_features,norms = normalize_features(features_matrix)"
   ]
  },
  {
   "cell_type": "code",
   "execution_count": 16,
   "metadata": {},
   "outputs": [],
   "source": [
    "initial_weights = np.array([1.,4.,1.])"
   ]
  },
  {
   "cell_type": "code",
   "execution_count": 18,
   "metadata": {},
   "outputs": [],
   "source": [
    "predictions = predict_output(normalized_features,initial_weights)"
   ]
  },
  {
   "cell_type": "code",
   "execution_count": 30,
   "metadata": {},
   "outputs": [],
   "source": [
    "ro = np.zeros(len(initial_weights))\n",
    "for j in range(len(initial_weights)):\n",
    "    ro[j] = (normalized_features[:,j]*(output_array-predictions+initial_weights[j]*normalized_features[:,j])).sum()"
   ]
  },
  {
   "cell_type": "code",
   "execution_count": 34,
   "metadata": {},
   "outputs": [
    {
     "data": {
      "text/plain": [
       "'8.793947e+07'"
      ]
     },
     "execution_count": 34,
     "metadata": {},
     "output_type": "execute_result"
    }
   ],
   "source": [
    "\"{:e}\".format(ro[1])"
   ]
  },
  {
   "cell_type": "code",
   "execution_count": 35,
   "metadata": {},
   "outputs": [
    {
     "data": {
      "text/plain": [
       "'8.096670e+07'"
      ]
     },
     "execution_count": 35,
     "metadata": {},
     "output_type": "execute_result"
    }
   ],
   "source": [
    "\"{:e}\".format(ro[2])"
   ]
  },
  {
   "cell_type": "code",
   "execution_count": 36,
   "metadata": {},
   "outputs": [],
   "source": [
    "def lasso_coordinate_descent_step(i, feature_matrix, output, weights, l1_penalty):\n",
    "    # compute prediction\n",
    "    prediction = predict_output(feature_matrix,weights)\n",
    "    # compute ro[i] = SUM[ [feature_i]*(output - prediction + weight[i]*[feature_i]) ]\n",
    "    ro_i = (feature_matrix[:,i]*(output-prediction+weights[i]*feature_matrix[:,i])).sum()\n",
    "    \n",
    "    if i == 0: # intercept -- do not regularize\n",
    "        new_weight_i = ro_i\n",
    "    elif ro_i < -l1_penalty/2.:\n",
    "        new_weight_i = ro_i + l1_penalty/2\n",
    "    elif ro_i > l1_penalty/2.:\n",
    "        new_weight_i = ro_i - l1_penalty/2\n",
    "    else:\n",
    "        new_weight_i = 0.\n",
    "    \n",
    "    return new_weight_i"
   ]
  },
  {
   "cell_type": "code",
   "execution_count": 40,
   "metadata": {},
   "outputs": [
    {
     "name": "stdout",
     "output_type": "stream",
     "text": [
      "0.4255588466910251\n"
     ]
    }
   ],
   "source": [
    "# should print 0.425558846691\n",
    "import math\n",
    "print(lasso_coordinate_descent_step(1, np.array([[3./math.sqrt(13),1./math.sqrt(10)],\n",
    "                   [2./math.sqrt(13),3./math.sqrt(10)]]), np.array([1., 1.]), np.array([1., 4.]), 0.1))"
   ]
  },
  {
   "cell_type": "code",
   "execution_count": 60,
   "metadata": {},
   "outputs": [],
   "source": [
    "def lasso_cyclical_coordinate_descent(feature_matrix, output, initial_weights, l1_penalty, tolerance):\n",
    "    max_change = None\n",
    "    weights = initial_weights\n",
    "    while max_change is None or max_change > tolerance:\n",
    "        max_change = None\n",
    "        for j in range(len(initial_weights)):\n",
    "            original_weight = weights[j]\n",
    "            weights[j] = lasso_coordinate_descent_step(j, feature_matrix, output, weights, l1_penalty)\n",
    "            change = abs(original_weight-weights[j])\n",
    "            if max_change is None or change > max_change:\n",
    "                max_change = change\n",
    "    return weights"
   ]
  },
  {
   "cell_type": "code",
   "execution_count": 46,
   "metadata": {},
   "outputs": [],
   "source": [
    "features_matrix,output_array = get_numpy_data(sales, ['sqft_living','bedrooms'],'price')"
   ]
  },
  {
   "cell_type": "code",
   "execution_count": 47,
   "metadata": {},
   "outputs": [],
   "source": [
    "normalized_features,norms = normalize_features(features_matrix)"
   ]
  },
  {
   "cell_type": "code",
   "execution_count": 62,
   "metadata": {},
   "outputs": [],
   "source": [
    "coordinate_descent_weights = lasso_cyclical_coordinate_descent(normalized_features, output_array,np.zeros(3),1e7,1.0)"
   ]
  },
  {
   "cell_type": "code",
   "execution_count": 65,
   "metadata": {},
   "outputs": [
    {
     "data": {
      "text/plain": [
       "array([21624997.95951909, 63157247.20788956,        0.        ])"
      ]
     },
     "execution_count": 65,
     "metadata": {},
     "output_type": "execute_result"
    }
   ],
   "source": [
    "coordinate_descent_weights"
   ]
  },
  {
   "cell_type": "code",
   "execution_count": 67,
   "metadata": {},
   "outputs": [],
   "source": [
    "def rss(x,y): return ((x-y)**2).sum()"
   ]
  },
  {
   "cell_type": "code",
   "execution_count": 69,
   "metadata": {},
   "outputs": [
    {
     "data": {
      "text/plain": [
       "'1.630492e+15'"
      ]
     },
     "execution_count": 69,
     "metadata": {},
     "output_type": "execute_result"
    }
   ],
   "source": [
    "\"{:e}\".format(rss(predict_output(normalized_features,coordinate_descent_weights),output_array))"
   ]
  },
  {
   "cell_type": "code",
   "execution_count": 90,
   "metadata": {},
   "outputs": [],
   "source": [
    "train = pd.read_csv(f'{PATH}kc_house_train_data.csv', dtype=dtype_dict)\n",
    "test = pd.read_csv(f'{PATH}kc_house_test_data.csv', dtype=dtype_dict)"
   ]
  },
  {
   "cell_type": "code",
   "execution_count": 91,
   "metadata": {},
   "outputs": [],
   "source": [
    "features = ['bedrooms', 'bathrooms', 'sqft_living', 'sqft_lot', 'floors', 'waterfront', 'view', 'condition', 'grade', 'sqft_above', 'sqft_basement', 'yr_built', 'yr_renovated']"
   ]
  },
  {
   "cell_type": "code",
   "execution_count": 92,
   "metadata": {},
   "outputs": [],
   "source": [
    "train_features_matrix,train_output = get_numpy_data(train,features,'price')"
   ]
  },
  {
   "cell_type": "code",
   "execution_count": 95,
   "metadata": {},
   "outputs": [],
   "source": [
    "normalized_train_features,train_norms = normalize_features(train_features_matrix)"
   ]
  },
  {
   "cell_type": "code",
   "execution_count": 99,
   "metadata": {},
   "outputs": [],
   "source": [
    "weights1e7 = lasso_cyclical_coordinate_descent(normalized_train_features,train_output,np.zeros(14),1e7,1)"
   ]
  },
  {
   "cell_type": "code",
   "execution_count": 108,
   "metadata": {},
   "outputs": [
    {
     "data": {
      "text/plain": [
       "array([24429600.23440312,        0.        ,        0.        ,\n",
       "       48389174.77154896,        0.        ,        0.        ,\n",
       "        3317511.21492165,  7329961.81171425,        0.        ,\n",
       "              0.        ,        0.        ,        0.        ,\n",
       "              0.        ,        0.        ])"
      ]
     },
     "execution_count": 108,
     "metadata": {},
     "output_type": "execute_result"
    }
   ],
   "source": [
    "weights1e7"
   ]
  },
  {
   "cell_type": "code",
   "execution_count": 106,
   "metadata": {},
   "outputs": [
    {
     "name": "stdout",
     "output_type": "stream",
     "text": [
      "yr_renovated\n",
      "sqft_living\n",
      "waterfront\n",
      "view\n"
     ]
    }
   ],
   "source": [
    "for i in weights1e7.nonzero()[0]:\n",
    "    print(features[i-1])"
   ]
  },
  {
   "cell_type": "code",
   "execution_count": 107,
   "metadata": {},
   "outputs": [],
   "source": [
    "weights1e8 = lasso_cyclical_coordinate_descent(normalized_train_features,train_output,np.zeros(14),1e8,1)"
   ]
  },
  {
   "cell_type": "code",
   "execution_count": 109,
   "metadata": {},
   "outputs": [
    {
     "data": {
      "text/plain": [
       "array([71114625.71488702,        0.        ,        0.        ,\n",
       "              0.        ,        0.        ,        0.        ,\n",
       "              0.        ,        0.        ,        0.        ,\n",
       "              0.        ,        0.        ,        0.        ,\n",
       "              0.        ,        0.        ])"
      ]
     },
     "execution_count": 109,
     "metadata": {},
     "output_type": "execute_result"
    }
   ],
   "source": [
    "weights1e8"
   ]
  },
  {
   "cell_type": "code",
   "execution_count": 110,
   "metadata": {},
   "outputs": [],
   "source": [
    "weights1e4 = lasso_cyclical_coordinate_descent(normalized_train_features,train_output,np.zeros(14),1e4,5e5)"
   ]
  },
  {
   "cell_type": "code",
   "execution_count": 111,
   "metadata": {},
   "outputs": [
    {
     "data": {
      "text/plain": [
       "array([ 78564738.34156762, -22097398.92430532,  12791071.87278517,\n",
       "        93808088.09281193,  -2013172.75704954,  -4219184.93265014,\n",
       "         6482842.81753506,   7127408.53480689,   5001664.8546964 ,\n",
       "        14327518.43714051, -15770959.15237397,  -5159591.22213147,\n",
       "       -84495341.7684364 ,   2824439.49703683])"
      ]
     },
     "execution_count": 111,
     "metadata": {},
     "output_type": "execute_result"
    }
   ],
   "source": [
    "weights1e4"
   ]
  },
  {
   "cell_type": "code",
   "execution_count": 112,
   "metadata": {},
   "outputs": [],
   "source": [
    "normalized_weights1e7 = weights1e7/train_norms"
   ]
  },
  {
   "cell_type": "code",
   "execution_count": 113,
   "metadata": {},
   "outputs": [
    {
     "data": {
      "text/plain": [
       "array([1.85285530e+05, 0.00000000e+00, 0.00000000e+00, 1.61317458e+02,\n",
       "       0.00000000e+00, 0.00000000e+00, 2.87664705e+05, 6.91937041e+04,\n",
       "       0.00000000e+00, 0.00000000e+00, 0.00000000e+00, 0.00000000e+00,\n",
       "       0.00000000e+00, 0.00000000e+00])"
      ]
     },
     "execution_count": 113,
     "metadata": {},
     "output_type": "execute_result"
    }
   ],
   "source": [
    "normalized_weights1e7"
   ]
  },
  {
   "cell_type": "code",
   "execution_count": 115,
   "metadata": {},
   "outputs": [
    {
     "data": {
      "text/plain": [
       "array([539366.62793373,      0.        ,      0.        ,      0.        ,\n",
       "            0.        ,      0.        ,      0.        ,      0.        ,\n",
       "            0.        ,      0.        ,      0.        ,      0.        ,\n",
       "            0.        ,      0.        ])"
      ]
     },
     "execution_count": 115,
     "metadata": {},
     "output_type": "execute_result"
    }
   ],
   "source": [
    "normalized_weights1e8 = weights1e8/train_norms\n",
    "normalized_weights1e8"
   ]
  },
  {
   "cell_type": "code",
   "execution_count": 116,
   "metadata": {},
   "outputs": [
    {
     "data": {
      "text/plain": [
       "array([ 5.95871771e+05, -4.80336244e+04,  4.30892643e+04,  3.12732803e+02,\n",
       "       -3.46078585e-01, -2.01432664e+04,  5.62133764e+05,  6.72816325e+04,\n",
       "        1.09255888e+04,  1.40325598e+04, -6.07214159e+01, -7.35796867e+01,\n",
       "       -3.25079490e+02,  5.26011603e+01])"
      ]
     },
     "execution_count": 116,
     "metadata": {},
     "output_type": "execute_result"
    }
   ],
   "source": [
    "normalized_weights1e4 = weights1e4/train_norms\n",
    "normalized_weights1e4"
   ]
  },
  {
   "cell_type": "code",
   "execution_count": 119,
   "metadata": {},
   "outputs": [
    {
     "name": "stdout",
     "output_type": "stream",
     "text": [
      "2.759621e+14\n"
     ]
    }
   ],
   "source": [
    "test_features_matrix,test_output = get_numpy_data(test,features,'price')\n",
    "print(\"{:e}\".format(rss(predict_output(test_features_matrix,normalized_weights1e7),test_output)))"
   ]
  },
  {
   "cell_type": "code",
   "execution_count": 120,
   "metadata": {},
   "outputs": [
    {
     "name": "stdout",
     "output_type": "stream",
     "text": [
      "5.371662e+14\n"
     ]
    }
   ],
   "source": [
    "print(\"{:e}\".format(rss(predict_output(test_features_matrix,normalized_weights1e8),test_output)))"
   ]
  },
  {
   "cell_type": "code",
   "execution_count": 121,
   "metadata": {},
   "outputs": [
    {
     "name": "stdout",
     "output_type": "stream",
     "text": [
      "2.284600e+14\n"
     ]
    }
   ],
   "source": [
    "print(\"{:e}\".format(rss(predict_output(test_features_matrix,normalized_weights1e4),test_output)))"
   ]
  },
  {
   "cell_type": "code",
   "execution_count": null,
   "metadata": {},
   "outputs": [],
   "source": []
  }
 ],
 "metadata": {
  "kernelspec": {
   "display_name": "Python 3",
   "language": "python",
   "name": "python3"
  },
  "language_info": {
   "codemirror_mode": {
    "name": "ipython",
    "version": 3
   },
   "file_extension": ".py",
   "mimetype": "text/x-python",
   "name": "python",
   "nbconvert_exporter": "python",
   "pygments_lexer": "ipython3",
   "version": "3.7.4"
  }
 },
 "nbformat": 4,
 "nbformat_minor": 4
}
